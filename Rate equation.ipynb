{
 "cells": [
  {
   "cell_type": "code",
   "execution_count": 2,
   "metadata": {
    "collapsed": true
   },
   "outputs": [],
   "source": [
    "%matplotlib inline\n",
    "from __future__ import division\n",
    "import numpy as np\n",
    "import matplotlib.pyplot as plt\n",
    "import scipy.integrate"
   ]
  },
  {
   "cell_type": "code",
   "execution_count": 39,
   "metadata": {
    "collapsed": true
   },
   "outputs": [],
   "source": [
    "def nstate(state, t):\n",
    "    n0, ne, nh, neh = state\n",
    "    kr = 1/20e-9\n",
    "    ke = 1/1e-7\n",
    "    kh = 1/1e-5\n",
    "    knr = 1/80e-9\n",
    "    ke_prime = 1/1e-5\n",
    "    kh_prime = 1/1e-7\n",
    "    \n",
    "    dn0 = kr * neh - ke*n0 - kh*n0\n",
    "    dne = ke*n0 - kh_prime*ne\n",
    "    dnh = kh*n0 - ke_prime*nh\n",
    "    dneh = ke_prime*nh + kh_prime*ne - kr*neh \n",
    "    \n",
    "    return [dn0, dne, dnh, dneh]"
   ]
  },
  {
   "cell_type": "code",
   "execution_count": 40,
   "metadata": {},
   "outputs": [
    {
     "name": "stderr",
     "output_type": "stream",
     "text": [
      "/Users/KP/anaconda/lib/python2.7/site-packages/ipykernel_launcher.py:3: DeprecationWarning: object of type <type 'float'> cannot be safely interpreted as an integer.\n",
      "  This is separate from the ipykernel package so we can avoid doing imports until\n"
     ]
    }
   ],
   "source": [
    "dt = 1e-9                          # time step, delta t\n",
    "tmax = 5e-6                             # max time, s\n",
    "t = np.linspace(0, tmax, num=tmax/dt) # time vector\n",
    "nt = len(t)                           # total number of time steps\n",
    "\n",
    "state = scipy.integrate.odeint(nstate, [1e6,0,0,0], t)"
   ]
  },
  {
   "cell_type": "code",
   "execution_count": 41,
   "metadata": {},
   "outputs": [
    {
     "data": {
      "text/plain": [
       "<matplotlib.legend.Legend at 0x1206f60d0>"
      ]
     },
     "execution_count": 41,
     "metadata": {},
     "output_type": "execute_result"
    },
    {
     "data": {
      "image/png": "[encoded data removed]",
      "text/plain": [
       "<matplotlib.figure.Figure at 0x1167c4490>"
      ]
     },
     "metadata": {},
     "output_type": "display_data"
    }
   ],
   "source": [
    "nn = -1\n",
    "plt.plot(t[:nn], state[:nn,0], label = 'n0')\n",
    "plt.plot(t[:nn], state[:nn,1], label = 'ne')\n",
    "plt.plot(t[:nn], state[:nn,2], label = 'nh')\n",
    "plt.plot(t[:nn], state[:nn,3], label = 'neh')\n",
    "plt.legend()"
   ]
  },
  {
   "cell_type": "code",
   "execution_count": 32,
   "metadata": {},
   "outputs": [
    {
     "data": {
      "text/plain": [
       "array([ 88339.22261461, 883392.22614876,   8833.92226138,  19434.62897525])"
      ]
     },
     "execution_count": 32,
     "metadata": {},
     "output_type": "execute_result"
    }
   ],
   "source": [
    "state[-1,:]"
   ]
  }
 ],
 "metadata": {
  "kernelspec": {
   "display_name": "Python 2",
   "language": "python",
   "name": "python2"
  },
  "language_info": {
   "codemirror_mode": {
    "name": "ipython",
    "version": 2
   },
   "file_extension": ".py",
   "mimetype": "text/x-python",
   "name": "python",
   "nbconvert_exporter": "python",
   "pygments_lexer": "ipython2",
   "version": "2.7.13"
  }
 },
 "nbformat": 4,
 "nbformat_minor": 2
}
